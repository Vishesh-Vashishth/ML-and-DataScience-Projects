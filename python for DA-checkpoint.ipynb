{
 "cells": [
  {
   "cell_type": "code",
   "execution_count": 7,
   "id": "3b0b0ba9-ac1d-4529-b68e-195987521696",
   "metadata": {},
   "outputs": [],
   "source": [
    "import numpy as np;"
   ]
  },
  {
   "cell_type": "code",
   "execution_count": 8,
   "id": "2ab6d060-9c51-4c27-b943-b32729a641a6",
   "metadata": {},
   "outputs": [],
   "source": [
    "an_exam = 42;"
   ]
  },
  {
   "cell_type": "code",
   "execution_count": 9,
   "id": "0242c10b-c687-40aa-a67a-ebf8e3a3e457",
   "metadata": {},
   "outputs": [],
   "source": [
    "an_apple = 45;"
   ]
  },
  {
   "cell_type": "code",
   "execution_count": 10,
   "id": "348198e3-9c19-4b72-83d6-94a674cc7e0c",
   "metadata": {},
   "outputs": [],
   "source": [
    "b = [1,2,3];"
   ]
  },
  {
   "cell_type": "code",
   "execution_count": 12,
   "id": "1c1e21b2-c553-47d5-a9ab-b5b79dc506c8",
   "metadata": {},
   "outputs": [
    {
     "ename": "SyntaxError",
     "evalue": "invalid syntax (88520220.py, line 1)",
     "output_type": "error",
     "traceback": [
      "\u001b[1;36m  Cell \u001b[1;32mIn[12], line 1\u001b[1;36m\u001b[0m\n\u001b[1;33m    b? #known as object introspection\u001b[0m\n\u001b[1;37m     ^\u001b[0m\n\u001b[1;31mSyntaxError\u001b[0m\u001b[1;31m:\u001b[0m invalid syntax\n"
     ]
    }
   ],
   "source": [
    "b? #known as object introspection"
   ]
  },
  {
   "cell_type": "code",
   "execution_count": 13,
   "id": "97cca01c-f7db-4808-aee2-fdfb423d402b",
   "metadata": {},
   "outputs": [
    {
     "data": {
      "text/plain": [
       "np.__loader__\n",
       "np.load\n",
       "np.loadtxt"
      ]
     },
     "metadata": {},
     "output_type": "display_data"
    }
   ],
   "source": [
    "np.*load*?"
   ]
  },
  {
   "cell_type": "code",
   "execution_count": 14,
   "id": "055efa72-9110-4e1e-a847-9d50f2f5c611",
   "metadata": {},
   "outputs": [],
   "source": [
    "np.__loader__;"
   ]
  },
  {
   "cell_type": "code",
   "execution_count": 15,
   "id": "64b63daa-4d20-4ab7-8022-131e7daf8254",
   "metadata": {},
   "outputs": [
    {
     "data": {
      "text/plain": [
       "\u001b[1;31mType:\u001b[0m        list\n",
       "\u001b[1;31mString form:\u001b[0m [1, 2, 3]\n",
       "\u001b[1;31mLength:\u001b[0m      3\n",
       "\u001b[1;31mDocstring:\u001b[0m  \n",
       "Built-in mutable sequence.\n",
       "\n",
       "If no argument is given, the constructor creates a new empty list.\n",
       "The argument must be an iterable if specified."
      ]
     },
     "metadata": {},
     "output_type": "display_data"
    }
   ],
   "source": [
    "b?"
   ]
  },
  {
   "cell_type": "code",
   "execution_count": 20,
   "id": "4187da6d-7c11-42fc-9d5e-01feaeff13da",
   "metadata": {},
   "outputs": [],
   "source": [
    "a = [1,2,3];"
   ]
  },
  {
   "cell_type": "code",
   "execution_count": 29,
   "id": "f30923b2-49ed-42aa-ba66-c7bc3536fa1a",
   "metadata": {},
   "outputs": [],
   "source": [
    "a = b;"
   ]
  },
  {
   "cell_type": "code",
   "execution_count": 30,
   "id": "69636c1c-d70b-4619-93e4-f8687dd9d9b7",
   "metadata": {},
   "outputs": [],
   "source": [
    "b;"
   ]
  },
  {
   "cell_type": "code",
   "execution_count": 31,
   "id": "a4b321f3-81ea-4dd3-8bfd-77fc5f99c567",
   "metadata": {},
   "outputs": [
    {
     "data": {
      "text/plain": [
       "[1, 2, 3]"
      ]
     },
     "execution_count": 31,
     "metadata": {},
     "output_type": "execute_result"
    }
   ],
   "source": [
    "b"
   ]
  },
  {
   "cell_type": "code",
   "execution_count": 32,
   "id": "c4252989-3a88-4a13-8a82-c649cda47068",
   "metadata": {},
   "outputs": [],
   "source": [
    "a.append(4)"
   ]
  },
  {
   "cell_type": "code",
   "execution_count": 33,
   "id": "933501f1-ea33-49de-9a38-34633721321c",
   "metadata": {},
   "outputs": [
    {
     "data": {
      "text/plain": [
       "[1, 2, 3, 4]"
      ]
     },
     "execution_count": 33,
     "metadata": {},
     "output_type": "execute_result"
    }
   ],
   "source": [
    "b"
   ]
  },
  {
   "cell_type": "code",
   "execution_count": 34,
   "id": "08f0a181-b2cc-4401-8577-0c9cd1804740",
   "metadata": {},
   "outputs": [
    {
     "data": {
      "text/plain": [
       "[1, 2, 3, 4]"
      ]
     },
     "execution_count": 34,
     "metadata": {},
     "output_type": "execute_result"
    }
   ],
   "source": [
    "a"
   ]
  },
  {
   "cell_type": "code",
   "execution_count": 35,
   "id": "edf3c512-344e-4dd6-a231-dd24b5549a05",
   "metadata": {},
   "outputs": [
    {
     "data": {
      "text/plain": [
       "[1, 2, 3, 4]"
      ]
     },
     "execution_count": 35,
     "metadata": {},
     "output_type": "execute_result"
    }
   ],
   "source": [
    "b"
   ]
  },
  {
   "cell_type": "code",
   "execution_count": 39,
   "id": "af841e4b-41df-44f9-9e94-278701b27650",
   "metadata": {},
   "outputs": [],
   "source": [
    "def append_element(some_list, element):\n",
    "    some_list.append(element);\n",
    "    "
   ]
  },
  {
   "cell_type": "code",
   "execution_count": null,
   "id": "bcd20076-55ff-42ec-929b-37ed4b5ed82b",
   "metadata": {},
   "outputs": [],
   "source": []
  },
  {
   "cell_type": "code",
   "execution_count": 40,
   "id": "588efca1-b77a-419c-a1f2-de53cacdf8e4",
   "metadata": {},
   "outputs": [],
   "source": [
    "data = [1,2,3]"
   ]
  },
  {
   "cell_type": "code",
   "execution_count": 41,
   "id": "de323769-57fc-4a4b-bcb2-1bc6c74ae061",
   "metadata": {},
   "outputs": [],
   "source": [
    "append_element(data , 4)"
   ]
  },
  {
   "cell_type": "code",
   "execution_count": 42,
   "id": "51d53333-1d41-4eaf-bf13-d20d5687b41b",
   "metadata": {},
   "outputs": [
    {
     "data": {
      "text/plain": [
       "[1, 2, 3, 4]"
      ]
     },
     "execution_count": 42,
     "metadata": {},
     "output_type": "execute_result"
    }
   ],
   "source": [
    "data"
   ]
  },
  {
   "cell_type": "code",
   "execution_count": 43,
   "id": "7fa7dc86-16e7-49c0-846b-2c2ee42db011",
   "metadata": {},
   "outputs": [],
   "source": [
    "a = 5"
   ]
  },
  {
   "cell_type": "code",
   "execution_count": 44,
   "id": "d2becd02-fc76-44e8-a7ac-9f2944947091",
   "metadata": {},
   "outputs": [
    {
     "data": {
      "text/plain": [
       "int"
      ]
     },
     "execution_count": 44,
     "metadata": {},
     "output_type": "execute_result"
    }
   ],
   "source": [
    "type(a)"
   ]
  },
  {
   "cell_type": "code",
   "execution_count": 47,
   "id": "b219a3d8-a599-417f-b120-717502b053de",
   "metadata": {},
   "outputs": [],
   "source": [
    "c = 4.5"
   ]
  },
  {
   "cell_type": "code",
   "execution_count": 48,
   "id": "5ae42656-1658-4ea1-a7c9-aac009edb933",
   "metadata": {},
   "outputs": [],
   "source": [
    "d =  2"
   ]
  },
  {
   "cell_type": "code",
   "execution_count": 51,
   "id": "b515c673-9a09-42d7-a264-a7ebf53e15e6",
   "metadata": {},
   "outputs": [
    {
     "name": "stdout",
     "output_type": "stream",
     "text": [
      "c is <class 'float'>, d is <class 'int'>\n"
     ]
    }
   ],
   "source": [
    "print(f\"c is {type(c)}, d is {type(d)}\") #we use f for using string literals "
   ]
  },
  {
   "cell_type": "code",
   "execution_count": 52,
   "id": "dfe6fe74-5631-4a80-907d-91636d805269",
   "metadata": {},
   "outputs": [
    {
     "ename": "TypeError",
     "evalue": "unsupported operand type(s) for /: 'int' and 'list'",
     "output_type": "error",
     "traceback": [
      "\u001b[1;31m---------------------------------------------------------------------------\u001b[0m",
      "\u001b[1;31mTypeError\u001b[0m                                 Traceback (most recent call last)",
      "Cell \u001b[1;32mIn[52], line 1\u001b[0m\n\u001b[1;32m----> 1\u001b[0m \u001b[43ma\u001b[49m\u001b[38;5;241;43m/\u001b[39;49m\u001b[43mb\u001b[49m\n",
      "\u001b[1;31mTypeError\u001b[0m: unsupported operand type(s) for /: 'int' and 'list'"
     ]
    }
   ],
   "source": [
    "a/b"
   ]
  },
  {
   "cell_type": "code",
   "execution_count": 53,
   "id": "1f18d7b3-a807-4750-8855-89e40970980d",
   "metadata": {},
   "outputs": [
    {
     "data": {
      "text/plain": [
       "2.25"
      ]
     },
     "execution_count": 53,
     "metadata": {},
     "output_type": "execute_result"
    }
   ],
   "source": [
    "c/d"
   ]
  },
  {
   "cell_type": "code",
   "execution_count": 60,
   "id": "4a5f951f-0aab-4070-9b48-1711a7cbd32d",
   "metadata": {},
   "outputs": [
    {
     "data": {
      "text/plain": [
       "False"
      ]
     },
     "execution_count": 60,
     "metadata": {},
     "output_type": "execute_result"
    }
   ],
   "source": [
    "isinstance(c,int) #used to check that an object is an instance of a particular type"
   ]
  },
  {
   "cell_type": "code",
   "execution_count": 56,
   "id": "d2be1296-f07b-4680-bb88-d93b15a4f236",
   "metadata": {},
   "outputs": [
    {
     "data": {
      "text/plain": [
       "True"
      ]
     },
     "execution_count": 56,
     "metadata": {},
     "output_type": "execute_result"
    }
   ],
   "source": [
    "isinstance(c,float)"
   ]
  },
  {
   "cell_type": "code",
   "execution_count": 57,
   "id": "e7eac850-716b-4055-9482-0ad11bc4b6ea",
   "metadata": {},
   "outputs": [
    {
     "data": {
      "text/plain": [
       "True"
      ]
     },
     "execution_count": 57,
     "metadata": {},
     "output_type": "execute_result"
    }
   ],
   "source": [
    "isinstance(data,list)"
   ]
  },
  {
   "cell_type": "code",
   "execution_count": 59,
   "id": "5d290501-7195-46f9-8241-b7738ee84467",
   "metadata": {},
   "outputs": [
    {
     "data": {
      "text/plain": [
       "True"
      ]
     },
     "execution_count": 59,
     "metadata": {},
     "output_type": "execute_result"
    }
   ],
   "source": [
    "isinstance(data,(list,float)) #we can also use tuple by which we can chec in multiple types"
   ]
  },
  {
   "cell_type": "code",
   "execution_count": 61,
   "id": "47de21a3-ddbc-4337-9fd3-22d14ec8a53b",
   "metadata": {},
   "outputs": [],
   "source": [
    "name = \"Vishesh\""
   ]
  },
  {
   "cell_type": "code",
   "execution_count": 63,
   "id": "09ffad90-d3d8-4394-814b-723c7a465779",
   "metadata": {},
   "outputs": [
    {
     "data": {
      "text/plain": [
       "'vishesh'"
      ]
     },
     "execution_count": 63,
     "metadata": {},
     "output_type": "execute_result"
    }
   ],
   "source": [
    "name.lower()"
   ]
  },
  {
   "cell_type": "code",
   "execution_count": 64,
   "id": "4d5499f2-3bfd-4a00-815f-b599343ce7dc",
   "metadata": {},
   "outputs": [
    {
     "data": {
      "text/plain": [
       "<function str.split(sep=None, maxsplit=-1)>"
      ]
     },
     "execution_count": 64,
     "metadata": {},
     "output_type": "execute_result"
    }
   ],
   "source": [
    "getattr(name , \"split\")"
   ]
  },
  {
   "cell_type": "code",
   "execution_count": 65,
   "id": "ea6c6e87-91cb-4a0e-9d0e-59b231713b82",
   "metadata": {},
   "outputs": [],
   "source": [
    "aa = [1,2,3]"
   ]
  },
  {
   "cell_type": "code",
   "execution_count": 66,
   "id": "fb331cad-d648-4a68-886f-2010a252a5d4",
   "metadata": {},
   "outputs": [],
   "source": [
    "b = aa"
   ]
  },
  {
   "cell_type": "code",
   "execution_count": 67,
   "id": "61b64a65-ee61-4a63-95eb-ee982cfa1c60",
   "metadata": {},
   "outputs": [],
   "source": [
    "c = list(aa)"
   ]
  },
  {
   "cell_type": "code",
   "execution_count": 68,
   "id": "dc588f29-aca0-4926-a435-ce2e1722efd6",
   "metadata": {},
   "outputs": [
    {
     "data": {
      "text/plain": [
       "False"
      ]
     },
     "execution_count": 68,
     "metadata": {},
     "output_type": "execute_result"
    }
   ],
   "source": [
    "a is b"
   ]
  },
  {
   "cell_type": "code",
   "execution_count": 69,
   "id": "e4300294-af77-48ad-ba99-87f4fa810e5b",
   "metadata": {},
   "outputs": [
    {
     "ename": "SyntaxError",
     "evalue": "invalid syntax (1382876030.py, line 1)",
     "output_type": "error",
     "traceback": [
      "\u001b[1;36m  Cell \u001b[1;32mIn[69], line 1\u001b[1;36m\u001b[0m\n\u001b[1;33m    aA IS B\u001b[0m\n\u001b[1;37m       ^\u001b[0m\n\u001b[1;31mSyntaxError\u001b[0m\u001b[1;31m:\u001b[0m invalid syntax\n"
     ]
    }
   ],
   "source": [
    "aA IS B"
   ]
  },
  {
   "cell_type": "code",
   "execution_count": 70,
   "id": "41fc6c8f-2667-4051-9864-3018a49164c4",
   "metadata": {},
   "outputs": [
    {
     "data": {
      "text/plain": [
       "True"
      ]
     },
     "execution_count": 70,
     "metadata": {},
     "output_type": "execute_result"
    }
   ],
   "source": [
    "aa is b"
   ]
  },
  {
   "cell_type": "code",
   "execution_count": 71,
   "id": "a95056d6-3426-4cf9-a8aa-5c4645392f28",
   "metadata": {},
   "outputs": [
    {
     "data": {
      "text/plain": [
       "True"
      ]
     },
     "execution_count": 71,
     "metadata": {},
     "output_type": "execute_result"
    }
   ],
   "source": [
    "aa is not c"
   ]
  },
  {
   "cell_type": "code",
   "execution_count": null,
   "id": "593f0f9f-a7c4-455b-8acc-bfc665ced8e1",
   "metadata": {},
   "outputs": [],
   "source": []
  }
 ],
 "metadata": {
  "kernelspec": {
   "display_name": "Python 3 (ipykernel)",
   "language": "python",
   "name": "python3"
  },
  "language_info": {
   "codemirror_mode": {
    "name": "ipython",
    "version": 3
   },
   "file_extension": ".py",
   "mimetype": "text/x-python",
   "name": "python",
   "nbconvert_exporter": "python",
   "pygments_lexer": "ipython3",
   "version": "3.10.13"
  }
 },
 "nbformat": 4,
 "nbformat_minor": 5
}
